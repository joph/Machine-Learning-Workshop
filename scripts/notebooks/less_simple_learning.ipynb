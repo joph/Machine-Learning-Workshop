{
 "cells": [
  {
   "cell_type": "code",
   "execution_count": 3,
   "metadata": {},
   "outputs": [],
   "source": [
    "from ipyturtle import Turtle\n",
    "import numpy as np\n",
    "import random\n",
    "\n",
    "\n"
   ]
  },
  {
   "cell_type": "code",
   "execution_count": 980,
   "metadata": {},
   "outputs": [],
   "source": [
    "def setup(t):\n",
    "    t.penup()\n",
    "    t.back(20)\n",
    "    move_left(t, 100)\n",
    "    t.pendown()\n",
    "    t.forward(200)\n",
    "    t.back(200)\n",
    "    move_right(t, 200)\n",
    "    t.forward(200)\n",
    "    t.back(200)\n",
    "    move_left(t, 100)\n",
    "    t.penup()\n",
    "    t.forward(40)\n",
    "    move_left(t, 100)\n",
    "\n",
    "    for i in range(4):\n",
    "    \n",
    "        if(i % 2 == 0):\n",
    "            move_right(t, 40)\n",
    "            t.pendown()\n",
    "            move_right(t, 120)\n",
    "            t.penup()\n",
    "            move_left(t, 160)\n",
    "            t.forward(40)\n",
    "    \n",
    "        if(i % 2 == 1):\n",
    "            t.pendown()\n",
    "            move_right(t, 80)\n",
    "            t.penup()\n",
    "            move_right(t, 40)\n",
    "            t.pendown()\n",
    "            move_right(t, 80)\n",
    "            t.penup()\n",
    "            move_left(t, 200)\n",
    "            t.forward(40)\n",
    "            t.penup()\n",
    "\n",
    "    t.pendown()\n",
    "    move_right(t, 200)\n",
    "    t.penup()\n",
    "    move_left(t, 100)\n",
    "    t.back(180)\n",
    "    t.pendown()\n",
    "    t.position()\n",
    "\n",
    "def move_left(t, mult):\n",
    "    t.left(90)\n",
    "    t.forward(1 * mult)\n",
    "    t.right(90)\n",
    "\n",
    "def move_right(t, mult):\n",
    "    t.right(90)\n",
    "    t.forward(1 * mult)\n",
    "    t.left(90)\n",
    "    \n",
    "def is_y(x, y):\n",
    "    \n",
    "    if((x > (y - 0.001)) and (x < (y + 0.001))):\n",
    "        return(True)\n",
    "    \n",
    "    return(False)\n",
    "\n",
    "def move(t, action):\n",
    "    \n",
    "    \n",
    "    state = 0\n",
    "    mult = 40\n",
    "    points = 0\n",
    "    \n",
    "    y = t.position()[1]\n",
    "    \n",
    "    y_old = y\n",
    "      \n",
    "    if(action == 0):\n",
    "        \n",
    "        points = action_left(t, mult)\n",
    "            \n",
    "    if(action == 1):\n",
    "        \n",
    "        points = action_right(t, mult)\n",
    "    \n",
    "    if(action == 2):\n",
    "      \n",
    "        points = action_forward(t, mult)\n",
    "        \n",
    "    x = t.position()[0]\n",
    "    y = t.position()[1]\n",
    "        \n",
    "    if(((x + 0.1) < (-1 * mult) or x > (mult)) and (is_y(y, 0) or is_y(y, 2 * mult))):\n",
    "        state = 1\n",
    "  \n",
    "    if((is_y(x, 0)) and (is_y(y, 1 * mult) or is_y(y, 3 * mult))):\n",
    "        state = 1  \n",
    "        \n",
    "    if(is_y(y_old, 4 * mult) and action == 2):\n",
    "        state = -1\n",
    "\n",
    "    return((points, state))\n",
    "    \n",
    "def action_left(t, mult):\n",
    "    \n",
    "    x = t.position()[0] \n",
    "    y = t.position()[1]\n",
    "    \n",
    "    points = 0\n",
    "    \n",
    "    if((x + 0.1) < (-1 * mult)):\n",
    "        points = -0.5\n",
    "        \n",
    "    else:\n",
    "        points = 0\n",
    "        move_left(t, mult)\n",
    "        \n",
    "    return(points)\n",
    "    \n",
    "def action_right(t, mult):\n",
    "    \n",
    "    x = t.position()[0] \n",
    "    y = t.position()[1]\n",
    "    \n",
    "    \n",
    "    points = 0\n",
    "    \n",
    "    if((x - 0.1) > (1 * mult)):\n",
    "        points = -0.5\n",
    "            \n",
    "    else:\n",
    "        points = 0\n",
    "        move_right(t, mult)\n",
    "        \n",
    "    return(points)\n",
    "   \n",
    "    \n",
    "def action_forward(t, mult):\n",
    "    \n",
    "    x = t.position()[0] \n",
    "    y = t.position()[1]\n",
    "    \n",
    "    points = 0\n",
    "    \n",
    "    if(is_y(y, 4 * mult)):\n",
    "        points = 100\n",
    "        return(points)\n",
    "          \n",
    "    if(is_y(y, 0) or is_y(y, 2 * mult)):\n",
    "        \n",
    "        if((x + 0.1) < (-1 * mult) or (x - 0.1) > (1 * mult)):\n",
    "            t.forward(1 * mult)\n",
    "            points = 10\n",
    "        else:\n",
    "            points = -10\n",
    "    else:           \n",
    "   \n",
    "        if(is_y(x, 0)):\n",
    "            t.forward(1 * mult)\n",
    "            points = 10\n",
    "        \n",
    "        else:\n",
    "            points = -10\n",
    "            \n",
    "    \n",
    "    \n",
    "    \n",
    "    return(points)\n"
   ]
  },
  {
   "cell_type": "markdown",
   "metadata": {},
   "source": [
    "# Build the maze"
   ]
  },
  {
   "cell_type": "code",
   "execution_count": 968,
   "metadata": {},
   "outputs": [
    {
     "data": {
      "application/vnd.jupyter.widget-view+json": {
       "model_id": "e85b45c639d449ad963646b8bc4fc285",
       "version_major": 2,
       "version_minor": 0
      },
      "text/plain": [
       "Turtle()"
      ]
     },
     "metadata": {},
     "output_type": "display_data"
    }
   ],
   "source": [
    "t = Turtle(width = 400, height = 400)\n",
    "t"
   ]
  },
  {
   "cell_type": "code",
   "execution_count": 969,
   "metadata": {},
   "outputs": [],
   "source": [
    "setup(t)"
   ]
  },
  {
   "cell_type": "markdown",
   "metadata": {},
   "source": [
    "# One walk through the Maze"
   ]
  },
  {
   "cell_type": "code",
   "execution_count": 970,
   "metadata": {},
   "outputs": [
    {
     "name": "stdout",
     "output_type": "stream",
     "text": [
      "(100, -1)\n"
     ]
    }
   ],
   "source": [
    "for i in range(4):\n",
    "    move(t, i % 2)\n",
    "    move(t, i % 2)\n",
    "    move(t, 2)\n",
    "\n",
    "print(move(t, 2))\n"
   ]
  },
  {
   "cell_type": "markdown",
   "metadata": {},
   "source": [
    "# Simple learning algorithm"
   ]
  },
  {
   "cell_type": "code",
   "execution_count": 987,
   "metadata": {},
   "outputs": [],
   "source": [
    "def simple_learning(t, q_table, state = 0, steps = 1, verbose = False):\n",
    "    \n",
    "    \n",
    "    i = 0\n",
    "    \n",
    "    end = False\n",
    "    \n",
    "    while((i < steps) and (not end)):\n",
    "        \n",
    "        if(state == -1):\n",
    "            print(\"Game ended\")\n",
    "            end = True\n",
    "        \n",
    "        row = state\n",
    "        \n",
    "        s = np.sum(q_table[row, :]) + 0.000001\n",
    "        \n",
    "        prob = (q_table[row, :] + 0.0000001) / s \n",
    "        \n",
    "        rand_numb = random.random()\n",
    "        \n",
    "        sumup = 0\n",
    "        \n",
    "        action = 0\n",
    "        \n",
    "        for n in prob:\n",
    "            sumup = sumup + n\n",
    "            if(rand_numb < sumup):\n",
    "                break\n",
    "            action = action + 1\n",
    "            \n",
    "        if(action > 2):\n",
    "            action = 2\n",
    "        \n",
    "        points, state = move(t, action)\n",
    "        \n",
    "        if(verbose):\n",
    "            print(\"action:\" + str(action))\n",
    "            print(\"points:\" + str(points))\n",
    "            print(\"state:\" + str(state))\n",
    "            print(\"row:\" + str(row))\n",
    "        \n",
    "        q_table[row, action] = q_table[row, action] + points\n",
    "    \n",
    "        if(q_table[row, action] < 0):\n",
    "            q_table[row, action] = 0\n",
    "    \n",
    "        i = i + 1\n",
    "        \n",
    "    \n",
    "    return(q_table, state)\n",
    "        \n",
    "       "
   ]
  },
  {
   "cell_type": "markdown",
   "metadata": {},
   "source": [
    "# Setup learning"
   ]
  },
  {
   "cell_type": "code",
   "execution_count": 988,
   "metadata": {},
   "outputs": [],
   "source": [
    "q_table = np.zeros((2, 3)) + 10\n",
    "state = 0\n",
    "t.reset()\n",
    "setup(t)"
   ]
  },
  {
   "cell_type": "markdown",
   "metadata": {},
   "source": [
    "# Learn"
   ]
  },
  {
   "cell_type": "code",
   "execution_count": null,
   "metadata": {},
   "outputs": [],
   "source": []
  },
  {
   "cell_type": "code",
   "execution_count": null,
   "metadata": {},
   "outputs": [],
   "source": []
  },
  {
   "cell_type": "code",
   "execution_count": null,
   "metadata": {},
   "outputs": [],
   "source": []
  },
  {
   "cell_type": "raw",
   "metadata": {},
   "source": []
  },
  {
   "cell_type": "raw",
   "metadata": {},
   "source": []
  },
  {
   "cell_type": "code",
   "execution_count": 989,
   "metadata": {},
   "outputs": [
    {
     "name": "stdout",
     "output_type": "stream",
     "text": [
      "Game ended\n",
      "[[  0.   0. 100.]\n",
      " [ 10.  10. 150.]]\n"
     ]
    }
   ],
   "source": [
    "q_table, state = simple_learning(t, q_table, state, 400, False)\n",
    "print(q_table)"
   ]
  }
 ],
 "metadata": {
  "kernelspec": {
   "display_name": "Python 3",
   "language": "python",
   "name": "python3"
  },
  "language_info": {
   "codemirror_mode": {
    "name": "ipython",
    "version": 3
   },
   "file_extension": ".py",
   "mimetype": "text/x-python",
   "name": "python",
   "nbconvert_exporter": "python",
   "pygments_lexer": "ipython3",
   "version": "3.6.8"
  }
 },
 "nbformat": 4,
 "nbformat_minor": 2
}
